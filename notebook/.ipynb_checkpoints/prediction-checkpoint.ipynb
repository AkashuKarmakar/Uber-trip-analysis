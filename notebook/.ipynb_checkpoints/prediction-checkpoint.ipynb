{
 "cells": [
  {
   "cell_type": "code",
   "execution_count": 1,
   "id": "5c1c67e9-25ae-47cd-aaba-caa422a777c4",
   "metadata": {},
   "outputs": [],
   "source": [
    "import joblib\n",
    "import pandas as pd\n",
    "import numpy as np"
   ]
  },
  {
   "cell_type": "code",
   "execution_count": 3,
   "id": "00cb75a2-3088-462e-8d44-2924ec53d395",
   "metadata": {},
   "outputs": [],
   "source": [
    "# Load models\n",
    "price_model = joblib.load(\"F:/projects/personal project/uber trip analysis/model/price_model.pkl\")\n",
    "cabtype_model = joblib.load(\"F:/projects/personal project/uber trip analysis/model/cabtype_model.pkl\")\n",
    "surge_model = joblib.load(\"F:/projects/personal project/uber trip analysis/model/surge_model.pkl\")\n",
    "\n",
    "# Load encoder if needed\n",
    "encoder = joblib.load(\"F:/projects/personal project/uber trip analysis/model/encoder.pkl\")  # Only if you encoded categorical values\n",
    "feature_cols = joblib.load(\"F:/projects/personal project/uber trip analysis/model/feature_names.pkl\")  # List of expected final feature columns\n",
    "cab_encoder = joblib.load('F:/projects/personal project/uber trip analysis/encoders/cab_type_encoder.pkl')"
   ]
  },
  {
   "cell_type": "code",
   "execution_count": 5,
   "id": "39fe664d-75a2-42c7-b064-4157d96c0561",
   "metadata": {},
   "outputs": [],
   "source": [
    "# Sample input data (raw)\n",
    "input_data = {\n",
    "    'hour': 14,\n",
    "    'day': 15,\n",
    "    'month': 12,\n",
    "    'distance': 2.5,\n",
    "    'temperature': 45.0,\n",
    "    'humidity': 0.6,\n",
    "    'windSpeed': 5.0,\n",
    "    'source': 'Haymarket Square',\n",
    "    'destination': 'North Station',\n",
    "    'name': 'Shared',\n",
    "    'short_summary': 'Clear',\n",
    "    'long_summary': 'Clear throughout the day.',\n",
    "    'icon': 'clear-day'\n",
    "}"
   ]
  },
  {
   "cell_type": "code",
   "execution_count": 7,
   "id": "5b349371-14c5-44bc-ab63-b76a3c61e72c",
   "metadata": {},
   "outputs": [],
   "source": [
    "# Convert to DataFrame\n",
    "input_df = pd.DataFrame([input_data])\n",
    "\n",
    "# Encode categorical features\n",
    "categorical_cols = ['source', 'destination', 'name', 'short_summary', 'long_summary', 'icon']\n",
    "encoded_cats = encoder.transform(input_df[categorical_cols])\n",
    "encoded_cat_df = pd.DataFrame(encoded_cats, columns=encoder.get_feature_names_out(categorical_cols))\n",
    "\n",
    "# Drop original categorical columns\n",
    "input_df = input_df.drop(columns=categorical_cols)\n",
    "\n",
    "# Combine numerical + encoded categorical features\n",
    "input_full = pd.concat([input_df.reset_index(drop=True), encoded_cat_df.reset_index(drop=True)], axis=1)\n",
    "\n",
    "# Reorder columns to match training feature order\n",
    "input_final = input_full.reindex(columns=feature_cols, fill_value=0)"
   ]
  },
  {
   "cell_type": "code",
   "execution_count": 13,
   "id": "7d7856f0-0dd1-450a-b0f3-8016edf3983d",
   "metadata": {},
   "outputs": [
    {
     "name": "stdout",
     "output_type": "stream",
     "text": [
      "Predicted Price: $ 26.28\n",
      "Predicted Cab Type: 1 / Uber\n",
      "Is Surge Applied (1=Yes, 0=No): 0\n"
     ]
    }
   ],
   "source": [
    "# Predict\n",
    "predicted_price = price_model.predict(input_final)[0]\n",
    "predicted_cab = cabtype_model.predict(input_final)[0]\n",
    "predicted_surge = surge_model.predict(input_final)[0]\n",
    "\n",
    "# Output\n",
    "print(\"Predicted Price: $\", round(predicted_price, 2))\n",
    "# Decode the prediction\n",
    "original_cab_label = cab_encoder.inverse_transform([predicted_cab])[0]\n",
    "print(\"Predicted Cab Type:\", predicted_cab,\"/\",original_cab_label)\n",
    "print(\"Is Surge Applied (1=Yes, 0=No):\", predicted_surge)"
   ]
  },
  {
   "cell_type": "code",
   "execution_count": null,
   "id": "754e10cf-d038-49fe-be3f-b7a392f67153",
   "metadata": {},
   "outputs": [],
   "source": []
  }
 ],
 "metadata": {
  "kernelspec": {
   "display_name": "Python 3 (ipykernel)",
   "language": "python",
   "name": "python3"
  },
  "language_info": {
   "codemirror_mode": {
    "name": "ipython",
    "version": 3
   },
   "file_extension": ".py",
   "mimetype": "text/x-python",
   "name": "python",
   "nbconvert_exporter": "python",
   "pygments_lexer": "ipython3",
   "version": "3.12.7"
  }
 },
 "nbformat": 4,
 "nbformat_minor": 5
}
