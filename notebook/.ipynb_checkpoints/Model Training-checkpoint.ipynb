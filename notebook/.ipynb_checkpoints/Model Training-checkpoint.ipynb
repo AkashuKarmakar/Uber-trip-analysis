{
 "cells": [
  {
   "cell_type": "code",
   "execution_count": 1,
   "id": "46423efa-59d8-4b16-9d87-6d4d2760180c",
   "metadata": {},
   "outputs": [],
   "source": [
    "from sklearn.preprocessing import LabelEncoder\n",
    "from sklearn.model_selection import train_test_split\n",
    "from sklearn.ensemble import RandomForestRegressor, RandomForestClassifier\n",
    "from sklearn.metrics import mean_squared_error, accuracy_score, classification_report\n",
    "import joblib\n",
    "import pandas as pd\n",
    "from sklearn.preprocessing import OneHotEncoder"
   ]
  },
  {
   "cell_type": "code",
   "execution_count": 2,
   "id": "ca28087c-530b-4869-8ed2-ae2b794f3e86",
   "metadata": {},
   "outputs": [],
   "source": [
    "data = pd.read_csv(\"F:/projects/personal project/uber trip analysis/data/uber_data.csv\")\n",
    "# Copy original data\n"
   ]
  },
  {
   "cell_type": "code",
   "execution_count": 3,
   "id": "fcd8e46c-11fd-41f5-96fb-8eacae42c5b3",
   "metadata": {},
   "outputs": [
    {
     "name": "stdout",
     "output_type": "stream",
     "text": [
      "Saved encoder for column: id at F:/projects/personal project/uber trip analysis/encoders/id_encoder.pkl\n",
      "Saved encoder for column: datetime at F:/projects/personal project/uber trip analysis/encoders/datetime_encoder.pkl\n",
      "Saved encoder for column: timezone at F:/projects/personal project/uber trip analysis/encoders/timezone_encoder.pkl\n",
      "Saved encoder for column: source at F:/projects/personal project/uber trip analysis/encoders/source_encoder.pkl\n",
      "Saved encoder for column: destination at F:/projects/personal project/uber trip analysis/encoders/destination_encoder.pkl\n",
      "Saved encoder for column: cab_type at F:/projects/personal project/uber trip analysis/encoders/cab_type_encoder.pkl\n",
      "Saved encoder for column: product_id at F:/projects/personal project/uber trip analysis/encoders/product_id_encoder.pkl\n",
      "Saved encoder for column: name at F:/projects/personal project/uber trip analysis/encoders/name_encoder.pkl\n",
      "Saved encoder for column: short_summary at F:/projects/personal project/uber trip analysis/encoders/short_summary_encoder.pkl\n",
      "Saved encoder for column: long_summary at F:/projects/personal project/uber trip analysis/encoders/long_summary_encoder.pkl\n",
      "Saved encoder for column: icon at F:/projects/personal project/uber trip analysis/encoders/icon_encoder.pkl\n"
     ]
    }
   ],
   "source": [
    "# Drop rows where 'price' is null (for price prediction)\n",
    "data = data.dropna(subset=['price'])\n",
    "\n",
    "# Encode object columns using LabelEncoder\n",
    "label_encoders = {}\n",
    "for col in data.select_dtypes(include='object').columns:\n",
    "    le = LabelEncoder()\n",
    "    data[col] = le.fit_transform(data[col].astype(str))\n",
    "    label_encoders[col] = le\n",
    "    path = f'F:/projects/personal project/uber trip analysis/encoders/{col}_encoder.pkl'\n",
    "    joblib.dump(le, path)\n",
    "    print(f\"Saved encoder for column: {col} at {path}\")\n",
    "\n",
    "# Create a binary classification column for surge detection\n",
    "data['is_surge'] = (data['surge_multiplier'] > 1).astype(int)\n",
    "\n",
    "# Define features (drop id, timestamp-related, and target columns for specific tasks)\n",
    "feature_cols = data.drop(columns=['id', 'price', 'cab_type', 'surge_multiplier', 'is_surge']).columns\n"
   ]
  },
  {
   "cell_type": "code",
   "execution_count": 4,
   "id": "962c58b5-fdcd-4fea-b920-fed5fbe120c6",
   "metadata": {},
   "outputs": [],
   "source": [
    "# Split target variables\n",
    "X = data[feature_cols]\n",
    "y_price = data['price']\n",
    "y_cabtype = data['cab_type']\n",
    "y_surge = data['is_surge']\n",
    "\n",
    "# Save feature names used for all models\n",
    "joblib.dump(feature_cols, 'F:/projects/personal project/uber trip analysis/model/feature_names.pkl')\n",
    "\n",
    "# Split data\n",
    "X_train_price, X_test_price, y_train_price, y_test_price = train_test_split(X, y_price, test_size=0.2, random_state=42)\n",
    "X_train_cab, X_test_cab, y_train_cab, y_test_cab = train_test_split(X, y_cabtype, test_size=0.2, random_state=42)\n",
    "X_train_surge, X_test_surge, y_train_surge, y_test_surge = train_test_split(X, y_surge, test_size=0.2, random_state=42)"
   ]
  },
  {
   "cell_type": "code",
   "execution_count": 5,
   "id": "e7dc366e-b2e4-4da1-b53a-f1b99c8934bc",
   "metadata": {},
   "outputs": [
    {
     "data": {
      "text/plain": [
       "['F:/projects/personal project/uber trip analysis/model/price_model.pkl']"
      ]
     },
     "execution_count": 5,
     "metadata": {},
     "output_type": "execute_result"
    }
   ],
   "source": [
    "# 1. Train Price Prediction Model\n",
    "reg_model = RandomForestRegressor(random_state=42)\n",
    "reg_model.fit(X_train_price, y_train_price)\n",
    "price_preds = reg_model.predict(X_test_price)\n",
    "price_mse = mean_squared_error(y_test_price, price_preds)\n",
    "\n",
    "# Save model\n",
    "joblib.dump(reg_model, 'F:/projects/personal project/uber trip analysis/model/price_model.pkl')"
   ]
  },
  {
   "cell_type": "code",
   "execution_count": 6,
   "id": "b4186002-f212-4d0e-a54e-fb5e7bd2fe14",
   "metadata": {},
   "outputs": [
    {
     "data": {
      "text/plain": [
       "['F:/projects/personal project/uber trip analysis/model/cabtype_model.pkl']"
      ]
     },
     "execution_count": 6,
     "metadata": {},
     "output_type": "execute_result"
    }
   ],
   "source": [
    "# 2. Train Cab Type Classification Model\n",
    "cab_model = RandomForestClassifier(random_state=42)\n",
    "cab_model.fit(X_train_cab, y_train_cab)\n",
    "cab_preds = cab_model.predict(X_test_cab)\n",
    "cab_acc = accuracy_score(y_test_cab, cab_preds)\n",
    "\n",
    "# Save model\n",
    "joblib.dump(cab_model, 'F:/projects/personal project/uber trip analysis/model/cabtype_model.pkl')\n"
   ]
  },
  {
   "cell_type": "code",
   "execution_count": 7,
   "id": "00e5d21f-6421-4e49-8900-1e93c361fc2c",
   "metadata": {},
   "outputs": [
    {
     "data": {
      "text/plain": [
       "['F:/projects/personal project/uber trip analysis/model/surge_model.pkl']"
      ]
     },
     "execution_count": 7,
     "metadata": {},
     "output_type": "execute_result"
    }
   ],
   "source": [
    "# 3. Train Surge Detection Model\n",
    "surge_model = RandomForestClassifier(random_state=42)\n",
    "surge_model.fit(X_train_surge, y_train_surge)\n",
    "surge_preds = surge_model.predict(X_test_surge)\n",
    "surge_acc = accuracy_score(y_test_surge, surge_preds)\n",
    "\n",
    "# Save model\n",
    "joblib.dump(surge_model, 'F:/projects/personal project/uber trip analysis/model/surge_model.pkl')\n"
   ]
  },
  {
   "cell_type": "code",
   "execution_count": 23,
   "id": "405b96ba-31fa-4210-b956-ebc27116d544",
   "metadata": {},
   "outputs": [
    {
     "name": "stdout",
     "output_type": "stream",
     "text": [
      "training acc for surge_model0.9726793943383805\n",
      "training acc for cab_model1.0\n",
      "training acc for reg_model7.454907747687992\n"
     ]
    }
   ],
   "source": [
    "#Training accuracy\n",
    "print(f\"training acc for surge_model- { surge_acc}\")\n",
    "print(f\"training acc for cab_model- {cab_acc}\")\n",
    "print(f\"training mse for reg_model- {price_mse}\")"
   ]
  },
  {
   "cell_type": "code",
   "execution_count": 9,
   "id": "3553695c-e5bb-47a6-aa7e-6e90fa50580b",
   "metadata": {},
   "outputs": [
    {
     "name": "stdout",
     "output_type": "stream",
     "text": [
      "✅ Encoder saved as encoder.pkl\n"
     ]
    }
   ],
   "source": [
    "# Define the categorical columns\n",
    "categorical_cols = ['source', 'destination', 'name', 'short_summary', 'long_summary', 'icon']\n",
    "\n",
    "# Create encoder and fit on categorical columns\n",
    "encoder = OneHotEncoder(handle_unknown='ignore', sparse_output=False)\n",
    "encoder.fit(data[categorical_cols])\n",
    "\n",
    "# Save encoder\n",
    "joblib.dump(encoder, \"F:/projects/personal project/uber trip analysis/model/encoder.pkl\")\n",
    "\n",
    "print(\"✅ Encoder saved as encoder.pkl\")\n"
   ]
  },
  {
   "cell_type": "code",
   "execution_count": null,
   "id": "88e788b7-d85e-4597-80cf-648b827b5eac",
   "metadata": {},
   "outputs": [],
   "source": []
  },
  {
   "cell_type": "code",
   "execution_count": 21,
   "id": "c59b9ef1-951c-4fee-bf8b-24a9d02bea4b",
   "metadata": {},
   "outputs": [
    {
     "data": {
      "text/plain": [
       "7.454907747687992"
      ]
     },
     "execution_count": 21,
     "metadata": {},
     "output_type": "execute_result"
    }
   ],
   "source": [
    "price_mse"
   ]
  },
  {
   "cell_type": "code",
   "execution_count": null,
   "id": "c02cc106-3f17-4128-a710-25c143cb6f73",
   "metadata": {},
   "outputs": [],
   "source": []
  }
 ],
 "metadata": {
  "kernelspec": {
   "display_name": "Python 3 (ipykernel)",
   "language": "python",
   "name": "python3"
  },
  "language_info": {
   "codemirror_mode": {
    "name": "ipython",
    "version": 3
   },
   "file_extension": ".py",
   "mimetype": "text/x-python",
   "name": "python",
   "nbconvert_exporter": "python",
   "pygments_lexer": "ipython3",
   "version": "3.12.7"
  }
 },
 "nbformat": 4,
 "nbformat_minor": 5
}
